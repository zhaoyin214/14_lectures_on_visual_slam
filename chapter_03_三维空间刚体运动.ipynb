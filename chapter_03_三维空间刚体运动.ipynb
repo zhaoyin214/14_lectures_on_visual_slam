{
 "cells": [
  {
   "cell_type": "markdown",
   "metadata": {},
   "source": [
    "# 第3讲：三维空间刚体运动\n",
    "\n",
    "三维空间中刚体运动的描述方式：旋转矩阵、变换矩阵、四元数和欧拉角"
   ]
  },
  {
   "cell_type": "markdown",
   "metadata": {},
   "source": [
    "## 3.1 旋转矩阵\n",
    "\n",
    "### 3.1.1 点和向量，坐标系\n",
    "\n"
   ]
  }
 ],
 "metadata": {
  "kernelspec": {
   "display_name": "Python 3",
   "language": "python",
   "name": "python3"
  },
  "language_info": {
   "codemirror_mode": {
    "name": "ipython",
    "version": 3
   },
   "file_extension": ".py",
   "mimetype": "text/x-python",
   "name": "python",
   "nbconvert_exporter": "python",
   "pygments_lexer": "ipython3",
   "version": "3.6.8"
  }
 },
 "nbformat": 4,
 "nbformat_minor": 2
}
