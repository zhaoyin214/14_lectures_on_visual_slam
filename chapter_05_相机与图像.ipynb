{
 "cells": [
  {
   "cell_type": "markdown",
   "metadata": {},
   "source": [
    "# 第5讲：相机与图像\n",
    "\n",
    "视觉SLAM中，观测主要是指**相机成像**的过程。\n"
   ]
  },
  {
   "cell_type": "markdown",
   "metadata": {},
   "source": [
    "## 5.1 相机模型\n",
    "\n",
    "相机将三维世界中的坐标点（米）映射到二维图像平面（像素）的过程能够用几何模型描述，其中最简单模型为**针孔模型**。针孔模型描述了一束光线通过针孔之后，在针孔背面投影成像的关系。但由于相机镜头的透镜作用，光线投影到成像平面的过程中会产生**畸变**。因此，相机投影成像过程需要使用针孔和畸变两个模型来描述，这两个模型能够把外部三维点投影到相机内部成像平面上，构成相机的**内参数**。\n",
    "\n",
    "### 5.1.1 针孔相机模型\n",
    "\n",
    "设$O−x−y−z$为相机坐标系，通常$z$轴指向相机前方、$x$向右、$y$向下。$O$为摄像机光心（针孔模型中的针孔）。世界坐标系中的点$P$经过小孔$O$投影后，落在物理成像平面$O^{\\prime}-x^{\\prime}-y^{\\prime}$上，成像点为$P^{\\prime}$。\n",
    "\n",
    "<img src=\"./img/fig_5_1.png\" width=\"500\" />\n",
    "\n",
    "设 P 的坐标为 [X, Y, Z]T ，P\n",
    "′ 为 [X\n",
    "′, Y \n",
    "′, Z\n",
    "′]T ，并且设物理成像平面到小孔的\n",
    "距离为 f（焦距）。那么，根据三角形相似关系，有：\n",
    "Z\n",
    "f\n",
    "= −\n",
    "X\n",
    "X′\n",
    "= −\n",
    "Y\n",
    "Y ′\n",
    ". (5.1)\n",
    "其中负号表示成的像是倒立的。为了简化模型，我们把可以成像平面对称到相机前方，和\n",
    "三维空间点一起放在摄像机坐标系的同一侧，如图 5-2 中间的样子所示。这样做可以把公\n",
    "式中的负号去掉，使式子更加简洁：\n",
    "Z\n",
    "f\n",
    "=\n",
    "X\n",
    "X′\n",
    "=\n",
    "Y\n",
    "Y ′\n",
    ". (5.2"
   ]
  }
 ],
 "metadata": {
  "kernelspec": {
   "display_name": "Python 3",
   "language": "python",
   "name": "python3"
  },
  "language_info": {
   "codemirror_mode": {
    "name": "ipython",
    "version": 3
   },
   "file_extension": ".py",
   "mimetype": "text/x-python",
   "name": "python",
   "nbconvert_exporter": "python",
   "pygments_lexer": "ipython3",
   "version": "3.6.9"
  }
 },
 "nbformat": 4,
 "nbformat_minor": 2
}
