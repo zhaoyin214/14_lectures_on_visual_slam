{
 "cells": [
  {
   "cell_type": "markdown",
   "metadata": {},
   "source": [
    "# 第4讲：李群与李代数\n"
   ]
  },
  {
   "cell_type": "markdown",
   "metadata": {},
   "source": [
    "## 4.1 李群李代数基础\n",
    "\n",
    "三维旋转矩阵构成**特殊正交群**$SO(3)$，变换矩阵构成**特殊欧氏群**$SE(3)$：\n",
    "\n",
    "$$SO(n) = \\{ \\mathbf{R} \\in \\R^{n \\times n} | \\mathbf{R} \\mathbf{R}^{\\text{T}} = \\mathbf{I}, \\det(\\mathbf{R}) = 1 \\} \\tag {4-1}$$\n",
    "\n",
    "$$SE(3) = \\left\\{\n",
    "    \\mathbf{T} =\n",
    "    \\begin{bmatrix}\n",
    "        \\mathbf{R} & \\mathbf{t} \\\\ \\mathbf{0}^{\\text{T}} & 1\n",
    "    \\end{bmatrix} \\in \\R^{4 \\times 4} |\n",
    "    \\mathbf{R} \\in SO(3), \\mathbf{t} \\in \\R^{3}\n",
    "\\right\\} \\tag {4-2}$$\n",
    "\n",
    "### 4.1.1 群\n",
    "\n",
    "**群（group）**：一种集合加上一种运算的代数结构。将集合记作$A$，运算记作$\\cdot$，则群记作$G = (A, \\cdot)$。群要求这个运算满足以下几个条件：\n",
    "\n",
    "1. 封闭性：$\\forall a_{1}, a_{2} \\in A, a_{1} \\cdot a_{2} \\ in A$\n",
    "\n",
    "2. 结合律：$\\forall a_{1}, a_{2}, a_{3} \\in A, (a_{1} \\cdot a_{2}) \\cdot a_{3} = a_{1} \\cdot (a_{2} \\cdot a_{3}) \\ in A$\n",
    "\n",
    "3. 幺元：$\\exists a_{0} \\in A, \\text{s.t. } \\forall a \\in A, a_{0} \\cdot a = a \\cdot a_{0} = a$\n",
    "\n",
    "4. 逆：$\\forall a \\in A, \\exists a^{-1} \\in A, \\text{s.t. } a \\cdot a^{-1} = a_{0}$\n",
    "\n",
    "旋转矩阵集合和矩阵乘法、变换矩阵和矩阵乘法分别构成旋转矩阵群和变换矩阵群。常见群包括整数加法$(\\Z, +)$，去掉0后的有理数乘法（幺元为1）$(\\Q \\ 0, \\cdot)$等。矩阵中常见的群有：\n",
    "\n",
    "* 一般线性群$GL(n)$：$n \\times n$的可逆矩阵，对矩阵乘法成群。\n",
    "\n",
    "* 特殊正交群$SO(n)$：即旋转矩阵群，其中$SO(2)$、$SO(3)$最为常见。\n",
    "\n",
    "* 特殊欧氏群$SE(n)$：即$n$维欧氏变换，如$SE(2)$、$SE(3)$。\n",
    "\n",
    "群结构保证了在群上的运算具有良好的性质。李群是指具有连续（光滑）性质的群。离散群（如整数群$Z$）没有连续性质，不属于李群；$SO(n)$和$SE(n)$在实数空间上是连续的，它们都是李群。每个李群都有对应的李代数。\n",
    "\n",
    "### 4.1.2 李代数的引出\n",
    "\n",
    "考虑任意旋转矩阵$\\mathbf{R}$，其满足：\n",
    "\n",
    "$$\\mathbf{R} \\mathbf{R}^{\\text{T}} = \\mathbf{I}$$\n",
    "\n",
    "假设$\\mathbf{R}$是一个相机的旋转，随时间连续地变化，即为时间的函数：$\\mathbf{R}(t)$，有\n",
    "\n",
    "$$\\mathbf{R}(t) \\mathbf{R}(t)^{\\text{T}} = \\mathbf{I}$$\n",
    "\n",
    "对时间求导，可得：\n",
    "\n",
    "$$\\dot{\\mathbf{R}}(t) \\mathbf{R}(t)^{\\text{T}} + \\mathbf{R}(t) \\dot{\\mathbf{R}}(t)^{\\text{T}} = \\mathbf{0}$$\n",
    "\n",
    "即$\\dot{\\mathbf{R}}(t) \\mathbf{R}(t)^{\\text{T}}$为*反对称*矩阵。对任意反对称矩阵，可找到一个与之对应的向量，用符号$\\vee$表示：\n",
    "\n",
    "$$\\mathbf{a}^{\\wedge} = \\mathbf{A} = \\begin{bmatrix}\n",
    "    0 & - a_{3} & a_{2} \\\\\n",
    "    a_{3} & 0 & - a_{1} \\\\\n",
    "    - a_{2} & a_{1} & 0 \\\\\n",
    "\\end{bmatrix},\n",
    "\\mathbf{A}^{\\vee} = \\mathbf{a} \\tag {4-7}$$\n",
    "\n",
    "因此，存在$\\mathbf{\\phi}(t) \\in \\R^{3}$\n",
    "\n",
    "$$\\dot{\\mathbf{R}}(t) \\mathbf{R}(t)^{\\text{T}} = \\mathbf{\\phi}(t)^{\\wedge}$$\n",
    "\n",
    "方程两边右乘$\\mathbf{R}(t)$可得：\n",
    "\n",
    "$$\\dot{\\mathbf{R}}(t) = \\mathbf{\\phi}(t)^{\\wedge} \\mathbf{R}(t) = \\begin{bmatrix}\n",
    "    0 & - \\phi_{3} & \\phi_{2} \\\\\n",
    "    \\phi_{3} & 0 & - \\phi_{1} \\\\\n",
    "    - \\phi_{2} & \\phi_{1} & 0 \\\\\n",
    "\\end{bmatrix} \\mathbf{R}(t) \\tag {4-8}$$\n",
    "\n",
    "即，每对旋转矩阵求导，只需左乘$\\mathbf{\\phi}(t)^{\\wedge}$矩阵。\n",
    "\n",
    "设$\\mathbf{R}(t_{0}) = \\mathbf{I}$，对$\\mathbf{R}(t)$在$t_{0}$附近一阶泰勒展开：\n",
    "\n",
    "$$\\begin{aligned}\n",
    "\\mathbf{R}(t)\n",
    "& \\approx \\mathbf{R}(t_{0}) + \\dot{\\mathbf{R}}(t_{0}) (t - t_{0}) \\\\\n",
    "& = \\mathbf{I} + \\mathbf{\\phi}(t_{0})^{\\wedge} t\n",
    "\\end{aligned} \\tag {4-9}$$\n",
    "\n",
    "由于$\\mathbf{\\phi}$反映$\\mathbf{R}$的导数性质，因此$\\mathbf{\\phi}$在$SO(3)$原点附近的正切空间（tangent space）上。在$t_{0}$附近，设$\\mathbf{\\phi}$为常数$\\mathbf{\\phi}(t_{0}) = \\mathbf{\\phi}_{0}$，则\n",
    "\n",
    "$$\\dot{\\mathbf{R}}(t) = \\mathbf{\\phi}(t_{0})^{\\wedge} \\mathbf{R}(t) = \\mathbf{\\phi}_{0}^{\\wedge} \\mathbf{R}(t)$$\n",
    "\n",
    "解得：\n",
    "\n",
    "$$\\mathbf{R}(t) = \\exp(\\mathbf{\\phi}_{0}^{\\wedge} t) \\tag {4-10}$$\n",
    "\n",
    "旋转矩阵$\\mathbf{R}$与反对称矩阵$\\mathbf{\\phi}_{0}^{\\wedge}$呈指数关系。\n",
    "\n",
    "1. 如果上式成立，则给定某时刻的$\\mathbf{R}$，就能求得一个$\\mathbf{\\phi}$，其描述$\\mathbf{R}$在局部的导数关系。$\\mathbf{\\phi}$对应到$SO(3)$上的李代数$\\mathfrak{so}(3)$；\n",
    "\n",
    "2. 矩阵指数$\\exp(\\mathbf{\\phi}_{0}^{\\wedge} t)$是李群与李代数间的指数/对数映射。\n",
    "\n",
    "\n",
    "### 4.1.3 李代数的定义\n",
    "\n",
    "每个李群都有与之对应的李代数。李代数描述了李群的局部性质。\n",
    "\n",
    "**李代数**定义：李代数由一个集合$\\mathbb{V}$，一个数域$\\mathbb{F}$和一个二元运算$[,]$组成。如果满足以下性质，则称$(\\mathbb{V}, \\mathbb{F}, [,])$为一个李代数，记作$\\mathfrak{g}$。\n",
    "\n",
    "1. 封闭性：$\\forall \\mathbf{X}, \\mathbf{Y} \\in \\mathbb{V}, [\\mathbf{X}, \\mathbf{Y}] \\in \\mathbb{V}$\n",
    "\n",
    "2. 双线性：$\\forall \\mathbf{X}, \\mathbf{Y}, \\mathbf{Z} \\in \\mathbb{V}, a, b \\in \\mathbb{F}$，有：\n",
    "\n",
    "$$[a \\mathbf{X} + b \\mathbf{Y}, \\mathbf{Z}] = a[\\mathbf{X}, \\mathbf{Z}] + b[\\mathbf{Y}, \\mathbf{Z}] \\\\\n",
    "[\\mathbf{Z}, a \\mathbf{X} + b \\mathbf{Y}] = a[\\mathbf{Z}, \\mathbf{X}] + b[\\mathbf{Z}, \\mathbf{Y}]$$\n",
    "\n",
    "3. 自反性：$\\forall \\mathbf{X} \\in \\mathbb{V}, [\\mathbf{X}, \\mathbf{X}] = \\mathbf{0}$\n",
    " \n",
    "4. 雅可比等价：$\\forall \\mathbf{X}, \\mathbf{Y}, \\mathbf{Z} \\in \\mathbb{V}$\n",
    "\n",
    "$$[\\mathbf{X}, [\\mathbf{Y}, \\mathbf{Z}]] + [\\mathbf{Z}, [\\mathbf{X}, \\mathbf{Y}]] + [\\mathbf{Y}, [\\mathbf{Z}, \\mathbf{X}]] = 0$$\n",
    "\n",
    "其中，二元运算称为李括号。李括号表达了两个元素的差异，其不要求结合律，而要求元素和自身做李括号之后为零的性质。例：三维向量$\\R^{3}$上定义的叉积$\\times$是一种李括号，$\\mathfrak{g} = \\R^{3}, \\R, \\times)$构成一个李代数。\n",
    "\n",
    "\n",
    "### 4.1.4 李代数$\\mathfrak{so}(3)$\n",
    "\n",
    "$SO(3)$对应的李代数是定义在$\\R^{3}$上的向量，记作$\\mathbf{\\phi}$，其反对称矩阵为：\n",
    "\n",
    "$$\\mathbf{\\Phi} = \\mathbf{\\phi}^{\\wedge} = \\begin{bmatrix}\n",
    "0 & - \\phi_{3} & \\phi_{2} \\\\\n",
    "\\phi_{3} & 0 & - \\phi_{1} \\\\\n",
    "- \\phi_{2} & \\phi_{1} & 0 \\\\\n",
    "\\end{bmatrix} \\in \\R^{3 \\times 3} \\tag {4-11}$$\n",
    "\n",
    "则向量$\\mathbf{\\phi}_{1}$、$\\mathbf{\\phi}_{2}$的李括号为：\n",
    "\n",
    "$$[\\mathbf{\\phi}_{1}, \\mathbf{\\phi}_{2}] = (\\mathbf{\\Phi}_{1} \\mathbf{\\Phi}_{2} - \\mathbf{\\Phi}_{2} \\mathbf{\\Phi}_{1})^{\\vee} \\tag {4-12}$$\n",
    "\n",
    "由于$\\mathbf{\\phi}$与反对称矩阵关系紧密，通常将$\\mathfrak{so}(3)$的元素说成3维向量或者3维反对称矩阵，不加区别：\n",
    "\n",
    "$$\\mathfrak{so}(3) = \\{ \\mathbf{\\phi} \\in \\R^{3}, \\mathbf{\\Phi} = \\mathbf{\\phi}^{\\wedge} \\in \\R^{3 \\times 3} \\} \\tag {4-13}$$\n",
    "\n",
    "$\\mathfrak{so}(3)$是一个由三维向量组成的集合，每个向量对应一个反对称矩阵，可以表达旋转矩阵的导数。$\\mathfrak{so}(3)$与$SO(3)$的关系由指数映射给出：\n",
    "\n",
    "$$\\mathbf{R} = \\exp({\\mathbf{\\phi}}^{\\wedge}) \\tag {4-14}$$\n",
    "\n"
   ]
  },
  {
   "cell_type": "code",
   "execution_count": 33,
   "metadata": {},
   "outputs": [],
   "source": [
    "from IPython.core.interactiveshell import InteractiveShell\n",
    "InteractiveShell.ast_node_interactivity = \"all\" "
   ]
  },
  {
   "cell_type": "code",
   "execution_count": 26,
   "metadata": {},
   "outputs": [],
   "source": [
    "import sympy\n",
    "\n",
    "phis_1 = [sympy.Symbol(\"phi_1{}\".format(idx + 1)) for idx in range(3)]\n",
    "phi_1 = sympy.Array(phis_1)\n",
    "Phi_1 = sympy.Matrix([[0, -phis_1[2], phis_1[1]], [phis_1[2], 0, -phis_1[0]], [-phis_1[1], phis_1[0], 0]])\n",
    "\n",
    "phis_2 = [sympy.Symbol(\"phi_2{}\".format(idx + 1)) for idx in range(3)]\n",
    "phi_2 = sympy.Array(phis)\n",
    "Phi_2 = sympy.Matrix([[0, -phis_2[2], phis_2[1]], [phis_2[2], 0, -phis_2[0]], [-phis_2[1], phis_2[0], 0]])\n",
    "\n",
    "phis_3 = [sympy.Symbol(\"phi_3{}\".format(idx + 1)) for idx in range(3)]\n",
    "phi_3 = sympy.Array(phis)\n",
    "Phi_3 = sympy.Matrix([[0, -phis_3[2], phis_3[1]], [phis_3[2], 0, -phis_3[0]], [-phis_3[1], phis_3[0], 0]])\n",
    "\n",
    "a, b = sympy.symbols(\"a b\")"
   ]
  },
  {
   "cell_type": "code",
   "execution_count": 27,
   "metadata": {},
   "outputs": [
    {
     "data": {
      "text/latex": [
       "$\\displaystyle \\left[\\begin{matrix}0 & - \\phi_{11} \\phi_{22} + \\phi_{12} \\phi_{21} & - \\phi_{11} \\phi_{23} + \\phi_{13} \\phi_{21}\\\\\\phi_{11} \\phi_{22} - \\phi_{12} \\phi_{21} & 0 & - \\phi_{12} \\phi_{23} + \\phi_{13} \\phi_{22}\\\\\\phi_{11} \\phi_{23} - \\phi_{13} \\phi_{21} & \\phi_{12} \\phi_{23} - \\phi_{13} \\phi_{22} & 0\\end{matrix}\\right]$"
      ],
      "text/plain": [
       "Matrix([\n",
       "[                            0, -phi_11*phi_22 + phi_12*phi_21, -phi_11*phi_23 + phi_13*phi_21],\n",
       "[phi_11*phi_22 - phi_12*phi_21,                              0, -phi_12*phi_23 + phi_13*phi_22],\n",
       "[phi_11*phi_23 - phi_13*phi_21,  phi_12*phi_23 - phi_13*phi_22,                              0]])"
      ]
     },
     "execution_count": 27,
     "metadata": {},
     "output_type": "execute_result"
    }
   ],
   "source": [
    "# 封闭性\n",
    "Phi_1 * Phi_2 - Phi_2 * Phi_1"
   ]
  },
  {
   "cell_type": "code",
   "execution_count": 36,
   "metadata": {},
   "outputs": [
    {
     "data": {
      "text/latex": [
       "$\\displaystyle \\left[\\begin{matrix}0 & 0 & 0\\\\0 & 0 & 0\\\\0 & 0 & 0\\end{matrix}\\right]$"
      ],
      "text/plain": [
       "Matrix([\n",
       "[0, 0, 0],\n",
       "[0, 0, 0],\n",
       "[0, 0, 0]])"
      ]
     },
     "execution_count": 36,
     "metadata": {},
     "output_type": "execute_result"
    },
    {
     "data": {
      "text/latex": [
       "$\\displaystyle \\left[\\begin{matrix}0 & 0 & 0\\\\0 & 0 & 0\\\\0 & 0 & 0\\end{matrix}\\right]$"
      ],
      "text/plain": [
       "Matrix([\n",
       "[0, 0, 0],\n",
       "[0, 0, 0],\n",
       "[0, 0, 0]])"
      ]
     },
     "execution_count": 36,
     "metadata": {},
     "output_type": "execute_result"
    }
   ],
   "source": [
    "# 双线性\n",
    "aPhi_1bPhi_2 = a * Phi_1 + b * Phi_2\n",
    "\n",
    "sympy.simplify(aPhi_1bPhi_2 * Phi_3 - Phi_3 * aPhi_1bPhi_2 - a * (Phi_1 * Phi_3 - Phi_3 * Phi_1) - b * (Phi_2 * Phi_3 - Phi_3 * Phi_2))\n",
    "\n",
    "sympy.simplify(Phi_3 * aPhi_1bPhi_2 - aPhi_1bPhi_2 * Phi_3 - a * (Phi_3 * Phi_1 - Phi_1 * Phi_3) - b * (Phi_3 * Phi_2 - Phi_2 * Phi_3))"
   ]
  },
  {
   "cell_type": "code",
   "execution_count": 20,
   "metadata": {},
   "outputs": [
    {
     "data": {
      "text/latex": [
       "$\\displaystyle \\left[\\begin{matrix}0 & 0 & 0\\\\0 & 0 & 0\\\\0 & 0 & 0\\end{matrix}\\right]$"
      ],
      "text/plain": [
       "Matrix([\n",
       "[0, 0, 0],\n",
       "[0, 0, 0],\n",
       "[0, 0, 0]])"
      ]
     },
     "execution_count": 20,
     "metadata": {},
     "output_type": "execute_result"
    }
   ],
   "source": [
    "# 自反性\n",
    "Phi_1 * Phi_1 - Phi_1 * Phi_1"
   ]
  },
  {
   "cell_type": "code",
   "execution_count": 42,
   "metadata": {},
   "outputs": [
    {
     "data": {
      "text/latex": [
       "$\\displaystyle \\left[\\begin{matrix}0 & 0 & 0\\\\0 & 0 & 0\\\\0 & 0 & 0\\end{matrix}\\right]$"
      ],
      "text/plain": [
       "Matrix([\n",
       "[0, 0, 0],\n",
       "[0, 0, 0],\n",
       "[0, 0, 0]])"
      ]
     },
     "execution_count": 42,
     "metadata": {},
     "output_type": "execute_result"
    }
   ],
   "source": [
    "# 雅可比等价\n",
    "sympy.simplify(\n",
    "    (Phi_1 * Phi_2 * Phi_3 - Phi_1 * Phi_3 * Phi_2 - Phi_2 * Phi_3 * Phi_1 + Phi_3 * Phi_2 * Phi_1) +\n",
    "    (Phi_3 * Phi_1 * Phi_2 - Phi_3 * Phi_2 * Phi_1 - Phi_1 * Phi_2 * Phi_3 + Phi_2 * Phi_1 * Phi_3) +\n",
    "    (Phi_2 * Phi_3 * Phi_1 - Phi_2 * Phi_1 * Phi_3 - Phi_3 * Phi_1 * Phi_2 + Phi_1 * Phi_3 * Phi_2)\n",
    ")"
   ]
  },
  {
   "cell_type": "markdown",
   "metadata": {},
   "source": [
    "### 4.1.5 李代数$\\mathfrak{se}(3)$\n",
    "\n",
    "$SE(3)$对应的李代数$\\mathfrak{se}(3)$位于$\\R^{6}$空间中\n",
    "\n",
    "$$\\mathfrak{se}(3) = \\left\\{\n",
    "    \\mathbf{\\xi} = \\begin{bmatrix}\n",
    "        \\mathbf{\\rho} \\\\ \\mathbf{\\phi}\n",
    "    \\end{bmatrix} \\in \\R^{6},\n",
    "    \\mathbf{\\rho} \\in \\R^{3},\n",
    "    \\mathbf{\\phi} \\in \\mathfrak{so}(3),\n",
    "    \\mathbf{\\xi}^{\\wedge} = \\begin{bmatrix}\n",
    "        \\mathbf{\\phi}^{\\wedge} & \\mathbf{\\rho} \\\\ \\mathbf{0}^{\\text{T}} & 0\n",
    "    \\end{bmatrix} \\in \\R^{4 \\times 4}\n",
    "\\right\\} \\tag {4-15}$$\n",
    "\n",
    "每个$\\mathfrak{se}(3)$元素记作$\\mathbf{\\xi}$，它是一个六维向量。前三维为平移，记作$\\mathbf{\\rho}$；后三维为旋转，记作$\\mathbf{\\phi}$。在$\\mathfrak{se}(3)$中，同样使用$\\wedge$符号，将一个六维向量转换成四维矩阵，但这里不再表示反对称：\n",
    "\n",
    "$$\\mathbf{\\xi}^{\\wedge} = \\begin{bmatrix}\n",
    "    \\mathbf{\\phi}^{\\wedge} & \\mathbf{\\rho} \\\\ \\mathbf{0}^{\\text{T}} & 0\n",
    "\\end{bmatrix} \\in \\R^{4 \\times 4} \\tag {4-16}$$\n",
    "\n",
    "在$\\mathfrak{se}(3)$中，仍使用$\\wedge$和$\\vee$符号指代“从向量到矩阵”和“从矩阵到向量”的关系，以保持与$\\mathfrak{so}(3)$的一致性。李代数$\\mathfrak{se}(3)$的李括号为：\n",
    "\n",
    "$$[\\mathbf{\\xi}_{1}, \\mathbf{\\xi}_{2}] = \\left(\n",
    "    \\mathbf{\\xi}_{1}^{\\wedge} \\mathbf{\\xi}_{2}^{\\wedge} -\n",
    "    \\mathbf{\\xi}_{2}^{\\wedge} \\mathbf{\\xi}_{1}^{\\wedge}\n",
    "\\right)^{\\vee} \\tag {4-17}$$"
   ]
  },
  {
   "cell_type": "markdown",
   "metadata": {},
   "source": [
    "## 4.2 指数与对数映射\n",
    "\n",
    "### 4.2.1 $SO(3)$上的指数映射\n",
    "\n",
    "$\\exp(\\mathbf{\\phi}^{\\wedge})$的计算：$\\exp(\\mathbf{\\phi}^{\\wedge})$是一个矩阵的指数，在李群和李代数中，称为指数映射（exponential map）。任意矩阵的指数映射可以展开为泰勒级数，其结果仍为矩阵，\n",
    "\n",
    "$$\\exp(\\mathbf{A}) = \\sum_{n = 0}^{\\infty} \\frac{1}{n!} \\mathbf{A}^{n} \\tag {4-18}$$\n",
    "\n",
    "对$\\mathfrak{so}(3)$中任意一元素$\\mathbf{\\phi}$，按此方式定义其指数映射：\n",
    "\n",
    "$$\\exp(\\mathbf{\\phi}^{\\wedge}) = \\sum_{n = 0}^{\\infty} \\frac{1}{n!} (\\mathbf{\\phi}^{\\wedge})^{n} \\tag {4-19}$$\n",
    "\n",
    "定义$\\mathbf{\\phi}$的模长和方向分别记作$\\theta$和$\\mathbf{a}$（$\\mathbf{a}$为单位长度方向向量），则$\\mathbf{\\phi} = \\theta \\mathbf{a}$。$\\mathbf{a}^{\\wedge}$有如下性质：\n",
    "\n",
    "$$\\mathbf{a}^{\\wedge} \\mathbf{a}^{\\wedge} = \\mathbf{a} \\mathbf{a}^{\\text{T}} - \\mathbf{I} \\tag {4-20}$$\n",
    "\n",
    "$$\\mathbf{a}^{\\wedge} \\mathbf{a}^{\\wedge} \\mathbf{a}^{\\wedge} = - \\mathbf{a}^{\\wedge} \\tag {4-21}$$\n",
    "\n",
    "以上两条性质提供了处理$\\mathbf{a}^{\\wedge}$的高阶项的方法。将指数映射展开：\n",
    "\n",
    "$$\\begin{aligned}\n",
    "\\exp(\\mathbf{\\phi}^{\\wedge})\n",
    "& = \\exp(\\theta \\mathbf{a}^{\\wedge}) = \\sum_{n = 0}^{\\infty} \\frac{1}{n!} (\\theta \\mathbf{a}^{\\wedge}\\theta \\mathbf{a}^{\\wedge})^{n} \\\\\n",
    "& = \\mathbf{I} + \\theta \\mathbf{a}^{\\wedge} + \\frac{1}{2!} \\theta^{2} \\mathbf{a}^{\\wedge} \\mathbf{a}^{\\wedge} +\n",
    "\\frac{1}{3!} \\theta^{3} \\mathbf{a}^{\\wedge} \\mathbf{a}^{\\wedge} \\mathbf{a}^{\\wedge} +\n",
    "\\frac{1}{4!} \\theta^{4} \\mathbf{a}^{\\wedge} \\mathbf{a}^{\\wedge} \\mathbf{a}^{\\wedge} \\mathbf{a}^{\\wedge} + \\cdots \\\\\n",
    "& = \\mathbf{a} \\mathbf{a}^{\\text{T}} - \\mathbf{a}^{\\wedge} \\mathbf{a}^{\\wedge} +\n",
    "\\theta \\mathbf{a}^{\\wedge} + \\frac{1}{2!} \\theta^{2} \\mathbf{a}^{\\wedge} \\mathbf{a}^{\\wedge} -\n",
    "\\frac{1}{3!} \\theta^{3} \\mathbf{a}^{\\wedge} -\n",
    "\\frac{1}{4!} \\theta^{4} \\mathbf{a}^{\\wedge} \\mathbf{a}^{\\wedge} + \\cdots \\\\\n",
    "& = \\mathbf{a} \\mathbf{a}^{\\text{T}} +\n",
    "\\left( \\theta - \\frac{1}{3!} \\theta^{3} + \\frac{1}{5!} \\theta^{5} - \\cdots \\right) \\mathbf{a}^{\\wedge} - \n",
    "\\left( 1 - \\frac{1}{2!} \\theta^{2} + \\frac{1}{4!} \\theta^{2} - \\cdots \\right) \\mathbf{a}^{\\wedge} \\mathbf{a}^{\\wedge} \\\\\n",
    "& = \\mathbf{a}^{\\wedge} \\mathbf{a}^{\\wedge} + \\mathbf{I} +\n",
    "\\sin \\theta \\mathbf{a}^{\\wedge} -\n",
    "\\cos \\theta \\mathbf{a}^{\\wedge} \\mathbf{a}^{\\wedge} \\\\\n",
    "& = \\left( 1 - \\cos \\theta \\right) \\mathbf{a}^{\\wedge} \\mathbf{a}^{\\wedge} + \\mathbf{I} + \\sin \\theta \\mathbf{a}^{\\wedge} \\\\\n",
    "& = \\cos \\theta \\mathbf{I} + \\left( 1 - \\cos \\theta \\right) \\mathbf{a} \\mathbf{a}^{\\text{T}} + \\sin \\theta \\mathbf{a}^{\\wedge} \\\\\n",
    "\\end{aligned}$$\n",
    "\n",
    "即，\n",
    "\n",
    "$$\\begin{aligned}\n",
    "\\exp(\\mathbf{\\phi}^{\\wedge})\n",
    "& = \\cos \\theta \\mathbf{I} + \\left( 1 - \\cos \\theta \\right) \\mathbf{a} \\mathbf{a}^{\\text{T}} + \\sin \\theta \\mathbf{a}^{\\wedge} \\\\\n",
    "\\end{aligned} \\tag {4-22}$$\n",
    "\n",
    "方程（4-22）与罗德里格斯公式形式相同，表明$\\mathfrak{so}(3)$是由旋转向量组成的空间，而指数映射即罗德里格斯公式。通过方程（4-22），可以将$\\mathfrak{so}(3)$中任意一个向量对应到位于$SO(3)$中的旋转矩阵；反之，定义对数映射，也能将$SO(3)$中的元素对应到$\\mathfrak{so}(3)$中：\n",
    "\n",
    "$$\\mathbf{\\phi} = \\ln(\\mathbf{R})^{\\vee}\n",
    "= \\left(\n",
    "    \\sum_{n = 0}^{\\infty} \\frac{(-1)^{n}}{n + 1} (\\mathbf{R} - \\mathbf{I})^{n + 1}\n",
    "\\right)^{\\vee} \\tag {4-23}$$\n",
    "\n",
    "指数映射是一个满射，即每个$SO(3)$中的元素都可以找到一个$\\mathfrak{so}(3)$元素与之对应；但是可能存在多个$\\mathfrak{so}(3)$中的元素，对应到同一个$SO(3)$。至少旋转角$\\theta$具有周期性。但是，如果将旋转角度固定在$\\pm \\pi$之间，则李群和李代数元素是一一对应的。"
   ]
  },
  {
   "cell_type": "markdown",
   "metadata": {},
   "source": [
    "### 4.2.2 $SE(3)$上的指数映射\n"
   ]
  }
 ],
 "metadata": {
  "kernelspec": {
   "display_name": "Python 3",
   "language": "python",
   "name": "python3"
  },
  "language_info": {
   "codemirror_mode": {
    "name": "ipython",
    "version": 3
   },
   "file_extension": ".py",
   "mimetype": "text/x-python",
   "name": "python",
   "nbconvert_exporter": "python",
   "pygments_lexer": "ipython3",
   "version": "3.6.10"
  }
 },
 "nbformat": 4,
 "nbformat_minor": 4
}
